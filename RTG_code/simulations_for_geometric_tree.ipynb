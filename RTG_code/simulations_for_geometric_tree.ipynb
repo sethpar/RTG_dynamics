{
 "cells": [
  {
   "cell_type": "code",
   "execution_count": 107,
   "metadata": {},
   "outputs": [
    {
     "data": {
      "text/plain": [
       "<VertexPropertyMap object with value type 'vector<double>', for Graph 0x1770002d0, at 0x107677090>"
      ]
     },
     "execution_count": 107,
     "metadata": {},
     "output_type": "execute_result"
    }
   ],
   "source": [
    "import random\n",
    "import numpy as np\n",
    "from graph_tool.all import *\n",
    "# Set size of graph for simulation\n",
    "num_nodes = 30000\n",
    "\n",
    "# Create graph to add nodes to \n",
    "g = Graph()\n",
    "\n",
    "# Add our starting node\n",
    "v0 = g.add_vertex()\n",
    "# creates  29999 new nodes and edges\n",
    "for new_node in range(1,num_nodes):\n",
    "    #creates the node\n",
    "    v_new = g.add_vertex()\n",
    "    # takes a random geomtric sample \n",
    "    z = np.random.default_rng().geometric(p=0.35, size=1)\n",
    "    # walk length is the number of trials till we get succed\n",
    "    walk_length = z.sum()\n",
    "    # we choose a node on the graph at random to sample and walk from\n",
    "    chosen_node = random.choices(list(g.vertices()))[0]\n",
    "    # shows the path from our selected node to  the root for us to traverse based on the number of \" steps\" we need to take\n",
    "    vlist,elist = shortest_path(g,chosen_node,v0)\n",
    "    path_to_root = ([str(v) for v in vlist])\n",
    "    if len(path_to_root) <= walk_length:\n",
    "        # If the root is closer and the same distance to our starting node we attach our new node to the root\n",
    "        g.add_edge(v_new, v0)\n",
    "    else:\n",
    "        # If our root is further than our number of step we attach to the node which is that number of steps from our start I.E if it takes one trial to succeed we attach our new node to the node chosen at random\n",
    "        g.add_edge(v_new,path_to_root[walk_length-1])\n",
    "\n",
    "pos = sfdp_layout(g)\n",
    "graph_draw(g, pos=pos, output_size=(8000, 6000), output=\"coevoling_simulation_35.png\")"
   ]
  },
  {
   "cell_type": "code",
   "execution_count": 113,
   "metadata": {},
   "outputs": [],
   "source": [
    "import random\n",
    "import numpy as np\n",
    "from graph_tool.all import *\n",
    "# Set size of graph for simulation\n",
    "num_nodes = 30000\n",
    "\n",
    "# Create graph to add nodes to \n",
    "g = Graph()\n",
    "\n",
    "# Add our starting node\n",
    "v0 = g.add_vertex()\n",
    "# creates  29999 new nodes and edges\n",
    "for new_node in range(1,num_nodes):\n",
    "    #creates the node\n",
    "    v_new = g.add_vertex()\n",
    "    # takes a random geomtric sample \n",
    "    z = np.random.default_rng().geometric(p=0.65, size=1)\n",
    "    # walk length is the number of trials till we get succed\n",
    "    walk_length = z.sum()\n",
    "    # we choose a node on the graph at random to sample and walk from\n",
    "    chosen_node = random.choices(list(g.vertices()))[0]\n",
    "    # shows the path from our selected node to  the root for us to traverse based on the number of \" steps\" we need to take\n",
    "    vlist,elist = shortest_path(g,chosen_node,v0)\n",
    "    path_to_root = ([str(v) for v in vlist])\n",
    "    if len(path_to_root) <= walk_length:\n",
    "        # If the root is closer and the same distance to our starting node we attach our new node to the root\n",
    "        g.add_edge(v_new, v0)\n",
    "    else:\n",
    "        # If our root is further than our number of step we attach to the node which is that number of steps from our start I.E if it takes one trial to succeed we attach our new node to the node chosen at random\n",
    "        g.add_edge(v_new,path_to_root[walk_length-1])\n",
    "\n",
    "pos = sfdp_layout(g)\n",
    "graph_draw(g, pos=pos, output_size=(8000, 6000), output=\"coevoling_simulation_65.png\")"
   ]
  },
  {
   "cell_type": "markdown",
   "metadata": {},
   "source": [
    "Now that we have created the our model for def 1.2. We now move to simulating a model in a nodal attribute setting where we have the following two node types red and blue, that build are graph using regular preffencial attachment. Our node connent to node of the same type with probaility 0.75 and connect with nodes of the other type with porbility 0.25, also when new nodes are added red is selected with probility 0.35 and blue with probility 0.65"
   ]
  },
  {
   "cell_type": "code",
   "execution_count": null,
   "metadata": {},
   "outputs": [
    {
     "ename": "KeyboardInterrupt",
     "evalue": "",
     "output_type": "error",
     "traceback": [
      "\u001b[0;31m---------------------------------------------------------------------------\u001b[0m",
      "\u001b[0;31mKeyboardInterrupt\u001b[0m                         Traceback (most recent call last)",
      "\u001b[1;32m/Users/sethpar/RTG_code/simulations_for_geometric_tree.ipynb Cell 5\u001b[0m line \u001b[0;36m5\n\u001b[1;32m     <a href='vscode-notebook-cell:/Users/sethpar/RTG_code/simulations_for_geometric_tree.ipynb#W1sZmlsZQ%3D%3D?line=46'>47</a>\u001b[0m     vprop_color[v_new] \u001b[39m=\u001b[39m (\u001b[39m0\u001b[39m, \u001b[39m0\u001b[39m, \u001b[39m1\u001b[39m, \u001b[39m1\u001b[39m)\n\u001b[1;32m     <a href='vscode-notebook-cell:/Users/sethpar/RTG_code/simulations_for_geometric_tree.ipynb#W1sZmlsZQ%3D%3D?line=48'>49</a>\u001b[0m \u001b[39mfor\u001b[39;00m v \u001b[39min\u001b[39;00m g\u001b[39m.\u001b[39mvertices():\n\u001b[0;32m---> <a href='vscode-notebook-cell:/Users/sethpar/RTG_code/simulations_for_geometric_tree.ipynb#W1sZmlsZQ%3D%3D?line=49'>50</a>\u001b[0m     degree \u001b[39m=\u001b[39m v\u001b[39m.\u001b[39;49mout_degree()\n\u001b[1;32m     <a href='vscode-notebook-cell:/Users/sethpar/RTG_code/simulations_for_geometric_tree.ipynb#W1sZmlsZQ%3D%3D?line=50'>51</a>\u001b[0m     node_type \u001b[39m=\u001b[39m node_types[v]\n\u001b[1;32m     <a href='vscode-notebook-cell:/Users/sethpar/RTG_code/simulations_for_geometric_tree.ipynb#W1sZmlsZQ%3D%3D?line=52'>53</a>\u001b[0m     \u001b[39m# Adjust the attachment probability based on the node type\u001b[39;00m\n",
      "File \u001b[0;32m~/miniconda3/envs/gt/lib/python3.11/site-packages/graph_tool/__init__.py:3847\u001b[0m, in \u001b[0;36m_out_degree\u001b[0;34m(self, weight)\u001b[0m\n\u001b[1;32m   3844\u001b[0m     \u001b[39melse\u001b[39;00m:\n\u001b[1;32m   3845\u001b[0m         \u001b[39mreturn\u001b[39;00m \u001b[39mself\u001b[39m\u001b[39m.\u001b[39m__weighted_in_degree(_prop(\u001b[39m\"\u001b[39m\u001b[39me\u001b[39m\u001b[39m\"\u001b[39m, weight\u001b[39m.\u001b[39mget_graph(), weight))\n\u001b[0;32m-> 3847\u001b[0m \u001b[39mdef\u001b[39;00m \u001b[39m_out_degree\u001b[39m(\u001b[39mself\u001b[39m, weight\u001b[39m=\u001b[39m\u001b[39mNone\u001b[39;00m):\n\u001b[1;32m   3848\u001b[0m \u001b[39m    \u001b[39m\u001b[39m\"\"\"Return the out-degree of the vertex. If provided, ``weight`` should be a\u001b[39;00m\n\u001b[1;32m   3849\u001b[0m \u001b[39m    scalar edge :class:`~graph_tool.EdgePropertyMap`, and the out-degree will\u001b[39;00m\n\u001b[1;32m   3850\u001b[0m \u001b[39m    correspond to the sum of the weights of the out-edges.\u001b[39;00m\n\u001b[1;32m   3851\u001b[0m \u001b[39m    \"\"\"\u001b[39;00m\n\u001b[1;32m   3853\u001b[0m     \u001b[39mif\u001b[39;00m weight \u001b[39mis\u001b[39;00m \u001b[39mNone\u001b[39;00m:\n",
      "\u001b[0;31mKeyboardInterrupt\u001b[0m: "
     ]
    }
   ],
   "source": [
    "import random\n",
    "from graph_tool.all import *\n",
    "\n",
    "# Number of nodes in the network\n",
    "num_nodes = 30000\n",
    "# Create a Graph\n",
    "g = Graph()\n",
    "\n",
    "\n",
    "num_of_edges = 1\n",
    "# Create a property map to store node types\n",
    "node_types = g.new_vertex_property(\"string\")\n",
    "vprop_color = g.new_vertex_property(\"vector<double>\")\n",
    "\n",
    "\n",
    "#Create list that stores node type by index\n",
    "\n",
    "nodes_type_list = []\n",
    "\n",
    "# Add initial nodes with types and edges\n",
    "v0 = g.add_vertex()\n",
    "v1 = g.add_vertex()\n",
    "node_types[v0] = \"A\"\n",
    "node_types[v1] = \"B\"\n",
    "e = g.add_edge(v0, v1)\n",
    "vprop_color[v0] = (1, 0, 0, 1)  # Red for type 'A'\n",
    "vprop_color[v1] = (0, 0, 1, 1)  # Blue for type 'B'\n",
    "nodes_type_list.append(node_types[v0])\n",
    "nodes_type_list.append(node_types[v1])\n",
    "\n",
    "# Probability parameter for sublinear preferential attachment\n",
    "alpha = 1  # Adjust as needed\n",
    "\n",
    "beta = 0.75\n",
    "\n",
    "# Simulate the growth of the network\n",
    "for new_node in range(2, num_nodes):\n",
    "    # Calculate the probability of connecting to existing nodes using sublinear preferential attachment\n",
    "    probabilities = []\n",
    "    new_node_type = \"A\" if random.random() < 0.35 else \"B\"  # Assign type 'A' or 'B' probabilistically\n",
    "    nodes_type_list.append(new_node_type)\n",
    "    v_new = g.add_vertex()\n",
    "    node_types[v_new] = new_node_type\n",
    "    if new_node_type == \"A\":\n",
    "        vprop_color[v_new] = (1, 0, 0, 1)\n",
    "    else:\n",
    "        vprop_color[v_new] = (0, 0, 1, 1)\n",
    "\n",
    "    for v in g.vertices():\n",
    "        degree = v.out_degree()\n",
    "        node_type = node_types[v]\n",
    "        \n",
    "        # Adjust the attachment probability based on the node type\n",
    "        if node_type == new_node_type:\n",
    "            attachment_prob = degree * beta\n",
    "        else:\n",
    "            attachment_prob = (degree) * (1 - beta)\n",
    "        \n",
    "        probabilities.append(attachment_prob)\n",
    "    \n",
    "    # Normalize the probabilities\n",
    "    total_prob = sum(probabilities)\n",
    "    probabilities = [prob / total_prob for prob in probabilities]\n",
    "    \n",
    "    # Choose a node to connect to based on the probabilities\n",
    "    target_node = random.choices(list(g.vertices()), probabilities)[0]\n",
    "    \n",
    "    # Add the new node and create an edge to the selected target node\n",
    "    g.add_edge(v_new, target_node)\n",
    "\n",
    "# Create a layout and draw the graph\n",
    "pos = sfdp_layout(g)\n",
    "graph_draw(g, pos=pos, vertex_fill_color=vprop_color, output_size=(8000, 6000), output=\"attachment_with_type.png\")"
   ]
  },
  {
   "cell_type": "markdown",
   "metadata": {},
   "source": []
  }
 ],
 "metadata": {
  "kernelspec": {
   "display_name": "gt",
   "language": "python",
   "name": "python3"
  },
  "language_info": {
   "codemirror_mode": {
    "name": "ipython",
    "version": 3
   },
   "file_extension": ".py",
   "mimetype": "text/x-python",
   "name": "python",
   "nbconvert_exporter": "python",
   "pygments_lexer": "ipython3",
   "version": "3.11.6"
  }
 },
 "nbformat": 4,
 "nbformat_minor": 2
}
