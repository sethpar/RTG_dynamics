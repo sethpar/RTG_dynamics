{
 "cells": [
  {
   "cell_type": "code",
   "execution_count": null,
   "metadata": {},
   "outputs": [
    {
     "ename": "",
     "evalue": "",
     "output_type": "error",
     "traceback": [
      "\u001b[1;31mRunning cells with '/Users/sethpar/Documents/RTG code/.conda/bin/python' requires the ipykernel package.\n",
      "\u001b[1;31mRun the following command to install 'ipykernel' into the Python environment. \n",
      "\u001b[1;31mCommand: 'conda install -p /Users/sethpar/Documents/RTG code/.conda ipykernel --update-deps --force-reinstall'"
     ]
    }
   ],
   "source": [
    "import random\n",
    "import networkx as nx\n",
    "import matplotlib.pyplot as plt\n",
    "\n",
    "# Number of nodes in the network\n",
    "num_nodes = 1000\n",
    "\n",
    "# Initialize a network\n",
    "G = nx.Graph()\n",
    "\n",
    "# Add initial nodes and edges\n",
    "G.add_node(0)\n",
    "G.add_node(1)\n",
    "G.add_edge(0, 1)\n",
    "\n",
    "# Probability parameter for sublinear preferential attachment\n",
    "alpha = 0.5  # You can adjust this value\n",
    "\n",
    "# Simulate the growth of the network\n",
    "for new_node in range(2, num_nodes):\n",
    "    # Calculate the probability of connecting to existing nodes using sublinear preferential attachment\n",
    "    probabilities = [G.degree(node) ** alpha for node in G.nodes()]\n",
    "    \n",
    "    # Normalize the probabilities\n",
    "    total_prob = sum(probabilities)\n",
    "    probabilities = [prob / total_prob for prob in probabilities]\n",
    "    \n",
    "    # Choose a node to connect to based on the probabilities\n",
    "    target_node = random.choices(list(G.nodes()), probabilities)[0]\n",
    "    \n",
    "    # Add the new node and create an edge to the selected target node\n",
    "    G.add_node(new_node)\n",
    "    G.add_edge(new_node, target_node)\n",
    "\n",
    "# Plot the network\n",
    "pos = nx.spring_layout(G, seed=42)\n",
    "nx.draw(G, pos, with_labels=False, node_size=10)\n",
    "plt.title(\"Sublinear Preferential Attachment Network\")\n",
    "plt.show()\n"
   ]
  }
 ],
 "metadata": {
  "kernelspec": {
   "display_name": "Python 3",
   "language": "python",
   "name": "python3"
  },
  "language_info": {
   "codemirror_mode": {
    "name": "ipython",
    "version": 3
   },
   "file_extension": ".py",
   "mimetype": "text/x-python",
   "name": "python",
   "nbconvert_exporter": "python",
   "pygments_lexer": "ipython3",
   "version": "3.10.13"
  }
 },
 "nbformat": 4,
 "nbformat_minor": 2
}
